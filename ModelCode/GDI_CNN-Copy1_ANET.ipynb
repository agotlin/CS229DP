{
 "cells": [
  {
   "cell_type": "code",
   "execution_count": 51,
   "metadata": {},
   "outputs": [],
   "source": [
    "import numpy as np\n",
    "import tensorflow as tf\n",
    "import random as rn\n",
    "import os\n",
    "import matplotlib.pyplot as plt\n",
    "%matplotlib inline\n",
    "os.environ['PYTHONHASHSEED'] = '0'\n",
    "np.random.seed(1)\n",
    "rn.seed(1)\n",
    "from keras import backend as K\n",
    "tf.set_random_seed(1)\n",
    "sess = tf.Session(graph=tf.get_default_graph())\n",
    "K.set_session(sess)\n",
    "import sys\n",
    "import keras\n",
    "from keras.models import Sequential\n",
    "from keras.layers import LSTM, Dense, Activation, Dropout, Flatten\n",
    "from keras.layers import Conv1D,MaxPooling1D,Conv2D,MaxPooling2D\n",
    "from keras.layers.normalization import BatchNormalization\n",
    "from keras.optimizers import SGD\n",
    "from keras.optimizers import RMSprop\n",
    "from keras.callbacks import LearningRateScheduler\n",
    "from keras.callbacks import ModelCheckpoint\n",
    "from keras.callbacks import TerminateOnNaN\n",
    "from keras.callbacks import TensorBoard\n",
    "import keras.regularizers\n",
    "import scipy\n",
    "import math\n",
    "import sys\n",
    "import pandas as pd\n",
    "from scipy.ndimage.filters import gaussian_filter1d\n",
    "from sklearn.metrics import mean_squared_error\n",
    "from scipy.stats import linregress\n",
    "from scipy import interpolate\n",
    "from scipy import signal\n",
    "#import cPickle as pickle\n",
    "#from video_process_utils import *\n",
    "import collections\n",
    "from keras.preprocessing.image import ImageDataGenerator, array_to_img, img_to_array, load_img\n",
    "from PIL import Image\n",
    "import matplotlib.pylab as plt\n",
    "from sklearn.preprocessing import StandardScaler, OneHotEncoder, LabelEncoder\n",
    "from sklearn.model_selection import train_test_split\n",
    "#os.environ[\"CUDA_DEVICE_ORDER\"]=\"PCI_BUS_ID\"\n",
    "#os.environ[\"CUDA_VISIBLE_DEVICES\"]=\"0\" \n",
    "import gc\n",
    "from time import time\n",
    "from keras.layers.wrappers import TimeDistributed\n",
    "from keras.layers.pooling import GlobalAveragePooling2D"
   ]
  },
  {
   "cell_type": "code",
   "execution_count": 2,
   "metadata": {},
   "outputs": [],
   "source": [
    "def ImportImage(filepath):\n",
    "    #print(filepath)\n",
    "    img = Image.open(filepath)\n",
    "    return np.array(img)"
   ]
  },
  {
   "cell_type": "code",
   "execution_count": 98,
   "metadata": {},
   "outputs": [],
   "source": [
    "#imagepaths_labels = pd.read_csv('./data/test/labels/imagepath_gdi_10.csv')\n",
    "imagepaths_labels = pd.read_csv('./data/test/labels/imagepath_gdi_10.csv')\n",
    "msk = np.random.rand(len(imagepaths_labels)) < 0.8\n",
    "train=imagepaths_labels[msk]\n",
    "validation=imagepaths_labels[~msk]"
   ]
  },
  {
   "cell_type": "code",
   "execution_count": 99,
   "metadata": {},
   "outputs": [],
   "source": [
    "train_imgs = np.array([ImportImage(img) for img in train['image_path'].values])\n",
    "train_labels = np.array([label for label in train['labels_norm'].values])\n",
    "validation_imgs = np.array([ImportImage(img) for img in validation['image_path'].values])\n",
    "validation_labels = np.array([label for label in validation['labels_norm'].values])"
   ]
  },
  {
   "cell_type": "code",
   "execution_count": 100,
   "metadata": {},
   "outputs": [
    {
     "data": {
      "text/plain": [
       "4291"
      ]
     },
     "execution_count": 100,
     "metadata": {},
     "output_type": "execute_result"
    }
   ],
   "source": [
    "gc.collect()"
   ]
  },
  {
   "cell_type": "code",
   "execution_count": 101,
   "metadata": {},
   "outputs": [
    {
     "name": "stdout",
     "output_type": "stream",
     "text": [
      "train images shape :  (3795, 480, 640, 3)\n",
      "train labels shape :  (3795,)\n",
      "validation images shape :  (990, 480, 640, 3)\n",
      "validation labels shape :  (990,)\n"
     ]
    }
   ],
   "source": [
    "print('train images shape : ',train_imgs.shape)\n",
    "print('train labels shape : ',train_labels.shape)\n",
    "print('validation images shape : ',validation_imgs.shape)\n",
    "print('validation labels shape : ',validation_labels.shape)"
   ]
  },
  {
   "cell_type": "code",
   "execution_count": 76,
   "metadata": {},
   "outputs": [
    {
     "data": {
      "text/plain": [
       "435"
      ]
     },
     "execution_count": 76,
     "metadata": {},
     "output_type": "execute_result"
    }
   ],
   "source": [
    "len(train['labels'].unique())"
   ]
  },
  {
   "cell_type": "code",
   "execution_count": 7,
   "metadata": {},
   "outputs": [],
   "source": [
    "for i, image in enumerate(train_imgs):\n",
    "    if (np.count_nonzero(image)<1):\n",
    "        print('all zeros at : ', i)"
   ]
  },
  {
   "cell_type": "code",
   "execution_count": 8,
   "metadata": {},
   "outputs": [],
   "source": [
    "for i, image in enumerate(validation_imgs):\n",
    "    if (np.count_nonzero(image)<1):\n",
    "        print('all zeros at : ', i)"
   ]
  },
  {
   "cell_type": "code",
   "execution_count": 102,
   "metadata": {},
   "outputs": [],
   "source": [
    "def step_decay(initial_lrate,epochs_drop,drop_factor):\n",
    "    def step_decay_fcn(epoch):\n",
    "        return initial_lrate * math.pow(drop_factor, math.floor((1+epoch)/epochs_drop))\n",
    "    return step_decay_fcn\n",
    "\n",
    "checkpoint_folder = \"./cnn_checkpoints_gdicnn\"\n",
    "batch_size  = 16\n",
    "num_classes = len(train_labels)\n",
    "epochs = 50\n",
    "epochs_drop,drop_factor = (10,0.8)\n",
    "input_shape = train_imgs[0].shape\n",
    "kernel_size = 8\n",
    "conv_dim = 16\n",
    "initial_lrate = 0.001\n",
    "dropout_amount = 0.5\n",
    "l2_lambda = 10**(-3.5)\n",
    "reg = keras.regularizers.l2(l2_lambda)\n",
    "last_layer_dim=18"
   ]
  },
  {
   "cell_type": "code",
   "execution_count": 10,
   "metadata": {},
   "outputs": [],
   "source": [
    "model = Sequential()\n",
    "model.add(Conv2D(conv_dim, kernel_size=kernel_size, input_shape=input_shape, padding='same'))\n",
    "model.add(Activation('relu'))\n",
    "model.add(BatchNormalization())\n",
    "model.add(Conv2D(conv_dim,kernel_size=kernel_size,padding='same'))\n",
    "model.add(Activation('relu'))\n",
    "model.add(BatchNormalization())\n",
    "model.add(MaxPooling2D(pool_size=2))\n",
    "model.add(Dropout(dropout_amount))\n",
    "model.add(Conv2D(conv_dim,kernel_size=kernel_size,padding='same',kernel_regularizer=reg))\n",
    "model.add(Activation('relu'))\n",
    "model.add(BatchNormalization())\n",
    "model.add(Conv2D(conv_dim,kernel_size=kernel_size,padding='same',kernel_regularizer=reg))\n",
    "model.add(Activation('relu'))\n",
    "model.add(BatchNormalization())\n",
    "model.add(MaxPooling2D(pool_size=2))\n",
    "model.add(Dropout(dropout_amount))\n",
    "model.add(Conv2D(conv_dim,kernel_size=kernel_size,padding='same',kernel_regularizer=reg))\n",
    "model.add(Activation('relu'))\n",
    "model.add(BatchNormalization())\n",
    "model.add(Conv2D(conv_dim,kernel_size=kernel_size,padding='same',kernel_regularizer=reg))\n",
    "model.add(Activation('relu'))\n",
    "model.add(BatchNormalization())\n",
    "model.add(MaxPooling2D(pool_size=3))\n",
    "model.add(Dropout(dropout_amount))\n",
    "model.add(Flatten())\n",
    "model.add(Dense(last_layer_dim,activation='relu'))\n",
    "model.add(Dense(1, activation='linear'))"
   ]
  },
  {
   "cell_type": "code",
   "execution_count": 11,
   "metadata": {},
   "outputs": [
    {
     "name": "stdout",
     "output_type": "stream",
     "text": [
      "Train on 17732 samples, validate on 4453 samples\n",
      "Epoch 1/50\n",
      "17732/17732 [==============================] - 1465s 83ms/step - loss: 9.1405 - acc: 0.1518 - val_loss: 34.7534 - val_acc: 0.0177\n",
      "\n",
      "Epoch 00001: val_loss improved from inf to 34.75343, saving model to ./cnn_checkpoints_gdicnn/weights-01.hdf5\n",
      "Epoch 2/50\n",
      "17732/17732 [==============================] - 1445s 82ms/step - loss: 4.0677 - acc: 0.2105 - val_loss: 4.2679 - val_acc: 0.1806\n",
      "\n",
      "Epoch 00002: val_loss improved from 34.75343 to 4.26789, saving model to ./cnn_checkpoints_gdicnn/weights-02.hdf5\n",
      "Epoch 3/50\n",
      "17732/17732 [==============================] - 1448s 82ms/step - loss: 2.9564 - acc: 0.2449 - val_loss: 9.7547 - val_acc: 0.0638\n",
      "\n",
      "Epoch 00003: val_loss did not improve from 4.26789\n",
      "Epoch 4/50\n",
      "17732/17732 [==============================] - 1443s 81ms/step - loss: 2.2506 - acc: 0.2800 - val_loss: 7.9401 - val_acc: 0.0833\n",
      "\n",
      "Epoch 00004: val_loss did not improve from 4.26789\n",
      "Epoch 5/50\n",
      "17732/17732 [==============================] - 1475s 83ms/step - loss: 1.8162 - acc: 0.3083 - val_loss: 4.5492 - val_acc: 0.1581\n",
      "\n",
      "Epoch 00005: val_loss did not improve from 4.26789\n",
      "Epoch 6/50\n",
      "17732/17732 [==============================] - 1452s 82ms/step - loss: 1.5318 - acc: 0.3336 - val_loss: 2.4533 - val_acc: 0.2488\n",
      "\n",
      "Epoch 00006: val_loss improved from 4.26789 to 2.45328, saving model to ./cnn_checkpoints_gdicnn/weights-06.hdf5\n",
      "Epoch 7/50\n",
      "17732/17732 [==============================] - 1471s 83ms/step - loss: 1.3064 - acc: 0.3633 - val_loss: 2.2856 - val_acc: 0.2592\n",
      "\n",
      "Epoch 00007: val_loss improved from 2.45328 to 2.28559, saving model to ./cnn_checkpoints_gdicnn/weights-07.hdf5\n",
      "Epoch 8/50\n",
      "13344/17732 [=====================>........] - ETA: 7:43 - loss: 1.1239 - acc: 0.3874"
     ]
    },
    {
     "ename": "KeyboardInterrupt",
     "evalue": "",
     "output_type": "error",
     "traceback": [
      "\u001b[1;31m---------------------------------------------------------------------------\u001b[0m",
      "\u001b[1;31mKeyboardInterrupt\u001b[0m                         Traceback (most recent call last)",
      "\u001b[1;32m<ipython-input-11-07ff83d1668f>\u001b[0m in \u001b[0;36m<module>\u001b[1;34m()\u001b[0m\n\u001b[0;32m     19\u001b[0m     history = model.fit(train_imgs, train_labels,callbacks=[checkpoint,lr,TerminateOnNaN()],\n\u001b[0;32m     20\u001b[0m               \u001b[0mvalidation_data\u001b[0m\u001b[1;33m=\u001b[0m\u001b[1;33m(\u001b[0m\u001b[0mvalidation_imgs\u001b[0m\u001b[1;33m,\u001b[0m\u001b[0mvalidation_labels\u001b[0m\u001b[1;33m)\u001b[0m\u001b[1;33m,\u001b[0m\u001b[1;33m\u001b[0m\u001b[0m\n\u001b[1;32m---> 21\u001b[1;33m               batch_size=batch_size, epochs=epochs,shuffle=True)\n\u001b[0m",
      "\u001b[1;32mE:\\MY\\Anaconda3\\envs\\tensorflow\\lib\\site-packages\\keras\\engine\\training.py\u001b[0m in \u001b[0;36mfit\u001b[1;34m(self, x, y, batch_size, epochs, verbose, callbacks, validation_split, validation_data, shuffle, class_weight, sample_weight, initial_epoch, steps_per_epoch, validation_steps, **kwargs)\u001b[0m\n\u001b[0;32m   1035\u001b[0m                                         \u001b[0minitial_epoch\u001b[0m\u001b[1;33m=\u001b[0m\u001b[0minitial_epoch\u001b[0m\u001b[1;33m,\u001b[0m\u001b[1;33m\u001b[0m\u001b[0m\n\u001b[0;32m   1036\u001b[0m                                         \u001b[0msteps_per_epoch\u001b[0m\u001b[1;33m=\u001b[0m\u001b[0msteps_per_epoch\u001b[0m\u001b[1;33m,\u001b[0m\u001b[1;33m\u001b[0m\u001b[0m\n\u001b[1;32m-> 1037\u001b[1;33m                                         validation_steps=validation_steps)\n\u001b[0m\u001b[0;32m   1038\u001b[0m \u001b[1;33m\u001b[0m\u001b[0m\n\u001b[0;32m   1039\u001b[0m     def evaluate(self, x=None, y=None,\n",
      "\u001b[1;32mE:\\MY\\Anaconda3\\envs\\tensorflow\\lib\\site-packages\\keras\\engine\\training_arrays.py\u001b[0m in \u001b[0;36mfit_loop\u001b[1;34m(model, f, ins, out_labels, batch_size, epochs, verbose, callbacks, val_f, val_ins, shuffle, callback_metrics, initial_epoch, steps_per_epoch, validation_steps)\u001b[0m\n\u001b[0;32m    197\u001b[0m                     \u001b[0mins_batch\u001b[0m\u001b[1;33m[\u001b[0m\u001b[0mi\u001b[0m\u001b[1;33m]\u001b[0m \u001b[1;33m=\u001b[0m \u001b[0mins_batch\u001b[0m\u001b[1;33m[\u001b[0m\u001b[0mi\u001b[0m\u001b[1;33m]\u001b[0m\u001b[1;33m.\u001b[0m\u001b[0mtoarray\u001b[0m\u001b[1;33m(\u001b[0m\u001b[1;33m)\u001b[0m\u001b[1;33m\u001b[0m\u001b[0m\n\u001b[0;32m    198\u001b[0m \u001b[1;33m\u001b[0m\u001b[0m\n\u001b[1;32m--> 199\u001b[1;33m                 \u001b[0mouts\u001b[0m \u001b[1;33m=\u001b[0m \u001b[0mf\u001b[0m\u001b[1;33m(\u001b[0m\u001b[0mins_batch\u001b[0m\u001b[1;33m)\u001b[0m\u001b[1;33m\u001b[0m\u001b[0m\n\u001b[0m\u001b[0;32m    200\u001b[0m                 \u001b[0mouts\u001b[0m \u001b[1;33m=\u001b[0m \u001b[0mto_list\u001b[0m\u001b[1;33m(\u001b[0m\u001b[0mouts\u001b[0m\u001b[1;33m)\u001b[0m\u001b[1;33m\u001b[0m\u001b[0m\n\u001b[0;32m    201\u001b[0m                 \u001b[1;32mfor\u001b[0m \u001b[0ml\u001b[0m\u001b[1;33m,\u001b[0m \u001b[0mo\u001b[0m \u001b[1;32min\u001b[0m \u001b[0mzip\u001b[0m\u001b[1;33m(\u001b[0m\u001b[0mout_labels\u001b[0m\u001b[1;33m,\u001b[0m \u001b[0mouts\u001b[0m\u001b[1;33m)\u001b[0m\u001b[1;33m:\u001b[0m\u001b[1;33m\u001b[0m\u001b[0m\n",
      "\u001b[1;32mE:\\MY\\Anaconda3\\envs\\tensorflow\\lib\\site-packages\\keras\\backend\\tensorflow_backend.py\u001b[0m in \u001b[0;36m__call__\u001b[1;34m(self, inputs)\u001b[0m\n\u001b[0;32m   2664\u001b[0m                 \u001b[1;32mreturn\u001b[0m \u001b[0mself\u001b[0m\u001b[1;33m.\u001b[0m\u001b[0m_legacy_call\u001b[0m\u001b[1;33m(\u001b[0m\u001b[0minputs\u001b[0m\u001b[1;33m)\u001b[0m\u001b[1;33m\u001b[0m\u001b[0m\n\u001b[0;32m   2665\u001b[0m \u001b[1;33m\u001b[0m\u001b[0m\n\u001b[1;32m-> 2666\u001b[1;33m             \u001b[1;32mreturn\u001b[0m \u001b[0mself\u001b[0m\u001b[1;33m.\u001b[0m\u001b[0m_call\u001b[0m\u001b[1;33m(\u001b[0m\u001b[0minputs\u001b[0m\u001b[1;33m)\u001b[0m\u001b[1;33m\u001b[0m\u001b[0m\n\u001b[0m\u001b[0;32m   2667\u001b[0m         \u001b[1;32melse\u001b[0m\u001b[1;33m:\u001b[0m\u001b[1;33m\u001b[0m\u001b[0m\n\u001b[0;32m   2668\u001b[0m             \u001b[1;32mif\u001b[0m \u001b[0mpy_any\u001b[0m\u001b[1;33m(\u001b[0m\u001b[0mis_tensor\u001b[0m\u001b[1;33m(\u001b[0m\u001b[0mx\u001b[0m\u001b[1;33m)\u001b[0m \u001b[1;32mfor\u001b[0m \u001b[0mx\u001b[0m \u001b[1;32min\u001b[0m \u001b[0minputs\u001b[0m\u001b[1;33m)\u001b[0m\u001b[1;33m:\u001b[0m\u001b[1;33m\u001b[0m\u001b[0m\n",
      "\u001b[1;32mE:\\MY\\Anaconda3\\envs\\tensorflow\\lib\\site-packages\\keras\\backend\\tensorflow_backend.py\u001b[0m in \u001b[0;36m_call\u001b[1;34m(self, inputs)\u001b[0m\n\u001b[0;32m   2634\u001b[0m                                 \u001b[0msymbol_vals\u001b[0m\u001b[1;33m,\u001b[0m\u001b[1;33m\u001b[0m\u001b[0m\n\u001b[0;32m   2635\u001b[0m                                 session)\n\u001b[1;32m-> 2636\u001b[1;33m         \u001b[0mfetched\u001b[0m \u001b[1;33m=\u001b[0m \u001b[0mself\u001b[0m\u001b[1;33m.\u001b[0m\u001b[0m_callable_fn\u001b[0m\u001b[1;33m(\u001b[0m\u001b[1;33m*\u001b[0m\u001b[0marray_vals\u001b[0m\u001b[1;33m)\u001b[0m\u001b[1;33m\u001b[0m\u001b[0m\n\u001b[0m\u001b[0;32m   2637\u001b[0m         \u001b[1;32mreturn\u001b[0m \u001b[0mfetched\u001b[0m\u001b[1;33m[\u001b[0m\u001b[1;33m:\u001b[0m\u001b[0mlen\u001b[0m\u001b[1;33m(\u001b[0m\u001b[0mself\u001b[0m\u001b[1;33m.\u001b[0m\u001b[0moutputs\u001b[0m\u001b[1;33m)\u001b[0m\u001b[1;33m]\u001b[0m\u001b[1;33m\u001b[0m\u001b[0m\n\u001b[0;32m   2638\u001b[0m \u001b[1;33m\u001b[0m\u001b[0m\n",
      "\u001b[1;32mE:\\MY\\Anaconda3\\envs\\tensorflow\\lib\\site-packages\\tensorflow\\python\\client\\session.py\u001b[0m in \u001b[0;36m__call__\u001b[1;34m(self, *args, **kwargs)\u001b[0m\n\u001b[0;32m   1437\u001b[0m           ret = tf_session.TF_SessionRunCallable(\n\u001b[0;32m   1438\u001b[0m               \u001b[0mself\u001b[0m\u001b[1;33m.\u001b[0m\u001b[0m_session\u001b[0m\u001b[1;33m.\u001b[0m\u001b[0m_session\u001b[0m\u001b[1;33m,\u001b[0m \u001b[0mself\u001b[0m\u001b[1;33m.\u001b[0m\u001b[0m_handle\u001b[0m\u001b[1;33m,\u001b[0m \u001b[0margs\u001b[0m\u001b[1;33m,\u001b[0m \u001b[0mstatus\u001b[0m\u001b[1;33m,\u001b[0m\u001b[1;33m\u001b[0m\u001b[0m\n\u001b[1;32m-> 1439\u001b[1;33m               run_metadata_ptr)\n\u001b[0m\u001b[0;32m   1440\u001b[0m         \u001b[1;32mif\u001b[0m \u001b[0mrun_metadata\u001b[0m\u001b[1;33m:\u001b[0m\u001b[1;33m\u001b[0m\u001b[0m\n\u001b[0;32m   1441\u001b[0m           \u001b[0mproto_data\u001b[0m \u001b[1;33m=\u001b[0m \u001b[0mtf_session\u001b[0m\u001b[1;33m.\u001b[0m\u001b[0mTF_GetBuffer\u001b[0m\u001b[1;33m(\u001b[0m\u001b[0mrun_metadata_ptr\u001b[0m\u001b[1;33m)\u001b[0m\u001b[1;33m\u001b[0m\u001b[0m\n",
      "\u001b[1;31mKeyboardInterrupt\u001b[0m: "
     ]
    }
   ],
   "source": [
    "train_model = True\n",
    "\n",
    "if not os.path.exists(checkpoint_folder):\n",
    "    os.makedirs(checkpoint_folder)\n",
    "\n",
    "filepath=checkpoint_folder+\"/weights-{epoch:02d}.hdf5\"\n",
    "if train_model:\n",
    "\n",
    "    opt = keras.optimizers.Adam(lr=0.001, beta_1=0.9, beta_2=0.999, epsilon=None, decay=0.0, amsgrad=False)\n",
    "    #opt = RMSprop(lr=0.0,rho=0.9, epsilon=1e-08, decay=0.0)\n",
    "    model.compile(loss='mse',metrics=['accuracy'],optimizer=opt)\n",
    "    #model.compile(loss='mse', optimizer='rmsprop', metrics=['accuracy'])\n",
    "\n",
    "\n",
    "    checkpoint = \\\n",
    "        ModelCheckpoint(filepath, verbose=1, save_best_only=True, save_weights_only=False, mode='auto', period=1)\n",
    "\n",
    "    lr = LearningRateScheduler(step_decay(initial_lrate,epochs_drop,drop_factor))\n",
    "    \n",
    "    tensorboard = keras.callbacks.TensorBoard(log_dir='./tensorboard-logs/linear/{}'.format(time()))\n",
    "\n",
    "    history = model.fit(train_imgs, train_labels,callbacks=[checkpoint,lr,TerminateOnNaN(),tensorboard],\n",
    "              validation_data=(validation_imgs,validation_labels),\n",
    "              batch_size=batch_size, epochs=epochs,shuffle=True)"
   ]
  },
  {
   "cell_type": "code",
   "execution_count": 12,
   "metadata": {},
   "outputs": [
    {
     "data": {
      "text/plain": [
       "0"
      ]
     },
     "execution_count": 12,
     "metadata": {},
     "output_type": "execute_result"
    }
   ],
   "source": [
    "gc.collect()"
   ]
  },
  {
   "cell_type": "code",
   "execution_count": 103,
   "metadata": {},
   "outputs": [],
   "source": [
    "batch_size  = 18\n",
    "dropout_amount = 0.5\n",
    "checkpoint_folder = \"./cnn_checkpoints_gdicnn_loss_dout\"\n",
    "reg = keras.regularizers.l2(l2_lambda)"
   ]
  },
  {
   "cell_type": "code",
   "execution_count": 104,
   "metadata": {},
   "outputs": [],
   "source": [
    "from keras.utils.np_utils import to_categorical\n",
    "train_categorical_labels = to_categorical(train_labels, num_classes=None)\n",
    "validation_categorical_labels = to_categorical(validation_labels, num_classes=None)"
   ]
  },
  {
   "cell_type": "code",
   "execution_count": 105,
   "metadata": {},
   "outputs": [
    {
     "data": {
      "text/plain": [
       "numpy.ndarray"
      ]
     },
     "execution_count": 105,
     "metadata": {},
     "output_type": "execute_result"
    }
   ],
   "source": [
    "type(train_categorical_labels)"
   ]
  },
  {
   "cell_type": "code",
   "execution_count": 106,
   "metadata": {},
   "outputs": [
    {
     "data": {
      "text/plain": [
       "18"
      ]
     },
     "execution_count": 106,
     "metadata": {},
     "output_type": "execute_result"
    }
   ],
   "source": [
    "len(train_categorical_labels[0])"
   ]
  },
  {
   "cell_type": "code",
   "execution_count": 107,
   "metadata": {},
   "outputs": [],
   "source": [
    "model = Sequential()\n",
    "model.add(Conv2D(conv_dim, kernel_size=kernel_size, input_shape=input_shape, padding='same'))\n",
    "model.add(Activation('relu'))\n",
    "model.add(BatchNormalization())\n",
    "model.add(Conv2D(conv_dim,kernel_size=kernel_size,padding='same'))\n",
    "model.add(Activation('relu'))\n",
    "model.add(BatchNormalization())\n",
    "model.add(MaxPooling2D(pool_size=2))\n",
    "model.add(Dropout(dropout_amount))\n",
    "model.add(Conv2D(conv_dim,kernel_size=kernel_size,padding='same',kernel_regularizer=reg))\n",
    "model.add(Activation('relu'))\n",
    "model.add(BatchNormalization())\n",
    "model.add(Conv2D(conv_dim,kernel_size=kernel_size,padding='same',kernel_regularizer=reg))\n",
    "model.add(Activation('relu'))\n",
    "model.add(BatchNormalization())\n",
    "model.add(MaxPooling2D(pool_size=2))\n",
    "model.add(Dropout(dropout_amount))\n",
    "model.add(Conv2D(conv_dim,kernel_size=kernel_size,padding='same',kernel_regularizer=reg))\n",
    "model.add(Activation('relu'))\n",
    "model.add(BatchNormalization())\n",
    "model.add(Conv2D(conv_dim,kernel_size=kernel_size,padding='same',kernel_regularizer=reg))\n",
    "model.add(Activation('relu'))\n",
    "model.add(BatchNormalization())\n",
    "model.add(MaxPooling2D(pool_size=3))\n",
    "model.add(Dropout(dropout_amount))\n",
    "model.add(Flatten())\n",
    "model.add(Dense(last_layer_dim,activation='relu'))\n",
    "model.add(Dense(18, activation='softmax'))"
   ]
  },
  {
   "cell_type": "code",
   "execution_count": 108,
   "metadata": {},
   "outputs": [
    {
     "name": "stdout",
     "output_type": "stream",
     "text": [
      "Train on 3795 samples, validate on 990 samples\n",
      "Epoch 1/50\n",
      "3795/3795 [==============================] - 305s 80ms/step - loss: 3.0427 - acc: 0.1333 - val_loss: 3.7498 - val_acc: 0.1293\n",
      "\n",
      "Epoch 00001: val_loss improved from inf to 3.74981, saving model to ./cnn_checkpoints_gdicnn_loss_dout/weights-01.hdf5\n",
      "Epoch 2/50\n",
      "3795/3795 [==============================] - 300s 79ms/step - loss: 2.7602 - acc: 0.1426 - val_loss: 2.8083 - val_acc: 0.1434\n",
      "\n",
      "Epoch 00002: val_loss improved from 3.74981 to 2.80828, saving model to ./cnn_checkpoints_gdicnn_loss_dout/weights-02.hdf5\n",
      "Epoch 3/50\n",
      "3795/3795 [==============================] - 300s 79ms/step - loss: 2.6795 - acc: 0.1513 - val_loss: 2.7262 - val_acc: 0.1525\n",
      "\n",
      "Epoch 00003: val_loss improved from 2.80828 to 2.72618, saving model to ./cnn_checkpoints_gdicnn_loss_dout/weights-03.hdf5\n",
      "Epoch 4/50\n",
      "3795/3795 [==============================] - 299s 79ms/step - loss: 2.6223 - acc: 0.1542 - val_loss: 2.6069 - val_acc: 0.1626\n",
      "\n",
      "Epoch 00004: val_loss improved from 2.72618 to 2.60695, saving model to ./cnn_checkpoints_gdicnn_loss_dout/weights-04.hdf5\n",
      "Epoch 5/50\n",
      "3795/3795 [==============================] - 304s 80ms/step - loss: 2.5934 - acc: 0.1578 - val_loss: 3.0177 - val_acc: 0.1455\n",
      "\n",
      "Epoch 00005: val_loss did not improve from 2.60695\n",
      "Epoch 6/50\n",
      "3795/3795 [==============================] - 300s 79ms/step - loss: 2.5694 - acc: 0.1544 - val_loss: 2.5526 - val_acc: 0.1626\n",
      "\n",
      "Epoch 00006: val_loss improved from 2.60695 to 2.55264, saving model to ./cnn_checkpoints_gdicnn_loss_dout/weights-06.hdf5\n",
      "Epoch 7/50\n",
      "3795/3795 [==============================] - 300s 79ms/step - loss: 2.5465 - acc: 0.1563 - val_loss: 2.5286 - val_acc: 0.1646\n",
      "\n",
      "Epoch 00007: val_loss improved from 2.55264 to 2.52857, saving model to ./cnn_checkpoints_gdicnn_loss_dout/weights-07.hdf5\n",
      "Epoch 8/50\n",
      "3795/3795 [==============================] - 299s 79ms/step - loss: 2.5192 - acc: 0.1581 - val_loss: 2.5234 - val_acc: 0.1616\n",
      "\n",
      "Epoch 00008: val_loss improved from 2.52857 to 2.52340, saving model to ./cnn_checkpoints_gdicnn_loss_dout/weights-08.hdf5\n",
      "Epoch 9/50\n",
      "3795/3795 [==============================] - 299s 79ms/step - loss: 2.5130 - acc: 0.1584 - val_loss: 2.5024 - val_acc: 0.1667\n",
      "\n",
      "Epoch 00009: val_loss improved from 2.52340 to 2.50243, saving model to ./cnn_checkpoints_gdicnn_loss_dout/weights-09.hdf5\n",
      "Epoch 10/50\n",
      "3795/3795 [==============================] - 299s 79ms/step - loss: 2.4900 - acc: 0.1621 - val_loss: 2.4984 - val_acc: 0.1697\n",
      "\n",
      "Epoch 00010: val_loss improved from 2.50243 to 2.49842, saving model to ./cnn_checkpoints_gdicnn_loss_dout/weights-10.hdf5\n",
      "Epoch 11/50\n",
      "3795/3795 [==============================] - 299s 79ms/step - loss: 2.4747 - acc: 0.1647 - val_loss: 2.4905 - val_acc: 0.1677\n",
      "\n",
      "Epoch 00011: val_loss improved from 2.49842 to 2.49053, saving model to ./cnn_checkpoints_gdicnn_loss_dout/weights-11.hdf5\n",
      "Epoch 12/50\n",
      "3795/3795 [==============================] - 299s 79ms/step - loss: 2.4695 - acc: 0.1639 - val_loss: 2.4842 - val_acc: 0.1677\n",
      "\n",
      "Epoch 00012: val_loss improved from 2.49053 to 2.48420, saving model to ./cnn_checkpoints_gdicnn_loss_dout/weights-12.hdf5\n",
      "Epoch 13/50\n",
      "3795/3795 [==============================] - 302s 79ms/step - loss: 2.4619 - acc: 0.1623 - val_loss: 2.5195 - val_acc: 0.1667\n",
      "\n",
      "Epoch 00013: val_loss did not improve from 2.48420\n",
      "Epoch 14/50\n",
      "3795/3795 [==============================] - 300s 79ms/step - loss: 2.4618 - acc: 0.1631 - val_loss: 2.4738 - val_acc: 0.1687\n",
      "\n",
      "Epoch 00014: val_loss improved from 2.48420 to 2.47383, saving model to ./cnn_checkpoints_gdicnn_loss_dout/weights-14.hdf5\n",
      "Epoch 15/50\n",
      "3795/3795 [==============================] - 300s 79ms/step - loss: 2.4505 - acc: 0.1642 - val_loss: 2.4714 - val_acc: 0.1677\n",
      "\n",
      "Epoch 00015: val_loss improved from 2.47383 to 2.47137, saving model to ./cnn_checkpoints_gdicnn_loss_dout/weights-15.hdf5\n",
      "Epoch 16/50\n",
      "3795/3795 [==============================] - 300s 79ms/step - loss: 2.4483 - acc: 0.1647 - val_loss: 2.4595 - val_acc: 0.1687\n",
      "\n",
      "Epoch 00016: val_loss improved from 2.47137 to 2.45955, saving model to ./cnn_checkpoints_gdicnn_loss_dout/weights-16.hdf5\n",
      "Epoch 17/50\n",
      "3795/3795 [==============================] - 300s 79ms/step - loss: 2.4314 - acc: 0.1681 - val_loss: 2.4566 - val_acc: 0.1727\n",
      "\n",
      "Epoch 00017: val_loss improved from 2.45955 to 2.45656, saving model to ./cnn_checkpoints_gdicnn_loss_dout/weights-17.hdf5\n",
      "Epoch 18/50\n",
      "3795/3795 [==============================] - 300s 79ms/step - loss: 2.4249 - acc: 0.1705 - val_loss: 2.4466 - val_acc: 0.1727\n",
      "\n",
      "Epoch 00018: val_loss improved from 2.45656 to 2.44657, saving model to ./cnn_checkpoints_gdicnn_loss_dout/weights-18.hdf5\n",
      "Epoch 19/50\n",
      "3795/3795 [==============================] - 300s 79ms/step - loss: 2.4234 - acc: 0.1708 - val_loss: 2.4361 - val_acc: 0.1737\n",
      "\n",
      "Epoch 00019: val_loss improved from 2.44657 to 2.43610, saving model to ./cnn_checkpoints_gdicnn_loss_dout/weights-19.hdf5\n",
      "Epoch 20/50\n",
      "3795/3795 [==============================] - 300s 79ms/step - loss: 2.4095 - acc: 0.1729 - val_loss: 2.4351 - val_acc: 0.1758\n",
      "\n",
      "Epoch 00020: val_loss improved from 2.43610 to 2.43515, saving model to ./cnn_checkpoints_gdicnn_loss_dout/weights-20.hdf5\n",
      "Epoch 21/50\n",
      "3795/3795 [==============================] - 300s 79ms/step - loss: 2.4042 - acc: 0.1734 - val_loss: 2.4178 - val_acc: 0.1768\n",
      "\n",
      "Epoch 00021: val_loss improved from 2.43515 to 2.41778, saving model to ./cnn_checkpoints_gdicnn_loss_dout/weights-21.hdf5\n",
      "Epoch 22/50\n",
      "3795/3795 [==============================] - 300s 79ms/step - loss: 2.3914 - acc: 0.1723 - val_loss: 2.4298 - val_acc: 0.1768\n",
      "\n",
      "Epoch 00022: val_loss did not improve from 2.41778\n",
      "Epoch 23/50\n",
      "3795/3795 [==============================] - 300s 79ms/step - loss: 2.3883 - acc: 0.1739 - val_loss: 2.4161 - val_acc: 0.1758\n",
      "\n",
      "Epoch 00023: val_loss improved from 2.41778 to 2.41612, saving model to ./cnn_checkpoints_gdicnn_loss_dout/weights-23.hdf5\n",
      "Epoch 24/50\n",
      "3795/3795 [==============================] - 300s 79ms/step - loss: 2.3847 - acc: 0.1736 - val_loss: 2.4105 - val_acc: 0.1747\n",
      "\n",
      "Epoch 00024: val_loss improved from 2.41612 to 2.41049, saving model to ./cnn_checkpoints_gdicnn_loss_dout/weights-24.hdf5\n",
      "Epoch 25/50\n",
      "3795/3795 [==============================] - 300s 79ms/step - loss: 2.3793 - acc: 0.1739 - val_loss: 2.4106 - val_acc: 0.1778\n",
      "\n",
      "Epoch 00025: val_loss did not improve from 2.41049\n",
      "Epoch 26/50\n",
      "3795/3795 [==============================] - 300s 79ms/step - loss: 2.3898 - acc: 0.1729 - val_loss: 2.4190 - val_acc: 0.1758\n",
      "\n",
      "Epoch 00026: val_loss did not improve from 2.41049\n",
      "Epoch 27/50\n",
      "3795/3795 [==============================] - 301s 79ms/step - loss: 2.3785 - acc: 0.1723 - val_loss: 2.4095 - val_acc: 0.1747\n",
      "\n",
      "Epoch 00027: val_loss improved from 2.41049 to 2.40955, saving model to ./cnn_checkpoints_gdicnn_loss_dout/weights-27.hdf5\n",
      "Epoch 28/50\n",
      "3795/3795 [==============================] - 300s 79ms/step - loss: 2.3863 - acc: 0.1736 - val_loss: 2.4739 - val_acc: 0.1778\n",
      "\n",
      "Epoch 00028: val_loss did not improve from 2.40955\n",
      "Epoch 29/50\n",
      "3795/3795 [==============================] - 299s 79ms/step - loss: 2.3889 - acc: 0.1731 - val_loss: 2.4303 - val_acc: 0.1717\n",
      "\n",
      "Epoch 00029: val_loss did not improve from 2.40955\n",
      "Epoch 30/50\n",
      "3795/3795 [==============================] - 300s 79ms/step - loss: 2.3863 - acc: 0.1726 - val_loss: 2.4110 - val_acc: 0.1747\n",
      "\n",
      "Epoch 00030: val_loss did not improve from 2.40955\n",
      "Epoch 31/50\n",
      "3795/3795 [==============================] - 300s 79ms/step - loss: 2.3809 - acc: 0.1763 - val_loss: 2.4073 - val_acc: 0.1778\n",
      "\n",
      "Epoch 00031: val_loss improved from 2.40955 to 2.40725, saving model to ./cnn_checkpoints_gdicnn_loss_dout/weights-31.hdf5\n",
      "Epoch 32/50\n",
      "3795/3795 [==============================] - 300s 79ms/step - loss: 2.3775 - acc: 0.1729 - val_loss: 2.4175 - val_acc: 0.1778\n",
      "\n",
      "Epoch 00032: val_loss did not improve from 2.40725\n",
      "Epoch 33/50\n",
      "3795/3795 [==============================] - 300s 79ms/step - loss: 2.3804 - acc: 0.1744 - val_loss: 2.4224 - val_acc: 0.1758\n",
      "\n",
      "Epoch 00033: val_loss did not improve from 2.40725\n",
      "Epoch 34/50\n",
      "3795/3795 [==============================] - 300s 79ms/step - loss: 2.3813 - acc: 0.1673 - val_loss: 2.4102 - val_acc: 0.1778\n",
      "\n",
      "Epoch 00034: val_loss did not improve from 2.40725\n",
      "Epoch 35/50\n",
      "3795/3795 [==============================] - 299s 79ms/step - loss: 2.3773 - acc: 0.1665 - val_loss: 2.4119 - val_acc: 0.1768\n",
      "\n",
      "Epoch 00035: val_loss did not improve from 2.40725\n",
      "Epoch 36/50\n",
      "3795/3795 [==============================] - 299s 79ms/step - loss: 2.3800 - acc: 0.1739 - val_loss: 2.4173 - val_acc: 0.1778\n",
      "\n",
      "Epoch 00036: val_loss did not improve from 2.40725\n",
      "Epoch 37/50\n",
      "3795/3795 [==============================] - 299s 79ms/step - loss: 2.3763 - acc: 0.1742 - val_loss: 2.4142 - val_acc: 0.1778\n",
      "\n",
      "Epoch 00037: val_loss did not improve from 2.40725\n",
      "Epoch 38/50\n",
      "3795/3795 [==============================] - 299s 79ms/step - loss: 2.3731 - acc: 0.1744 - val_loss: 2.4193 - val_acc: 0.1737\n",
      "\n",
      "Epoch 00038: val_loss did not improve from 2.40725\n",
      "Epoch 39/50\n",
      "3795/3795 [==============================] - 299s 79ms/step - loss: 2.3728 - acc: 0.1713 - val_loss: 2.4112 - val_acc: 0.1758\n",
      "\n",
      "Epoch 00039: val_loss did not improve from 2.40725\n",
      "Epoch 40/50\n",
      "3795/3795 [==============================] - 299s 79ms/step - loss: 2.3689 - acc: 0.1731 - val_loss: 2.4065 - val_acc: 0.1778\n",
      "\n",
      "Epoch 00040: val_loss improved from 2.40725 to 2.40646, saving model to ./cnn_checkpoints_gdicnn_loss_dout/weights-40.hdf5\n",
      "Epoch 41/50\n",
      "3795/3795 [==============================] - 299s 79ms/step - loss: 2.3744 - acc: 0.1800 - val_loss: 2.4057 - val_acc: 0.1727\n",
      "\n",
      "Epoch 00041: val_loss improved from 2.40646 to 2.40572, saving model to ./cnn_checkpoints_gdicnn_loss_dout/weights-41.hdf5\n",
      "Epoch 42/50\n",
      "3795/3795 [==============================] - 299s 79ms/step - loss: 2.3633 - acc: 0.1829 - val_loss: 2.3970 - val_acc: 0.1747\n",
      "\n",
      "Epoch 00042: val_loss improved from 2.40572 to 2.39701, saving model to ./cnn_checkpoints_gdicnn_loss_dout/weights-42.hdf5\n",
      "Epoch 43/50\n",
      "3795/3795 [==============================] - 299s 79ms/step - loss: 2.3647 - acc: 0.1842 - val_loss: 2.3959 - val_acc: 0.1758\n",
      "\n",
      "Epoch 00043: val_loss improved from 2.39701 to 2.39585, saving model to ./cnn_checkpoints_gdicnn_loss_dout/weights-43.hdf5\n",
      "Epoch 44/50\n",
      "3795/3795 [==============================] - 300s 79ms/step - loss: 2.3579 - acc: 0.1852 - val_loss: 2.3952 - val_acc: 0.1788\n",
      "\n",
      "Epoch 00044: val_loss improved from 2.39585 to 2.39522, saving model to ./cnn_checkpoints_gdicnn_loss_dout/weights-44.hdf5\n",
      "Epoch 45/50\n",
      "3795/3795 [==============================] - 300s 79ms/step - loss: 2.3611 - acc: 0.1850 - val_loss: 2.4014 - val_acc: 0.1778\n",
      "\n",
      "Epoch 00045: val_loss did not improve from 2.39522\n",
      "Epoch 46/50\n",
      "3795/3795 [==============================] - 300s 79ms/step - loss: 2.3535 - acc: 0.1892 - val_loss: 2.4032 - val_acc: 0.1758\n",
      "\n",
      "Epoch 00046: val_loss did not improve from 2.39522\n",
      "Epoch 47/50\n",
      "3795/3795 [==============================] - 300s 79ms/step - loss: 2.3510 - acc: 0.1903 - val_loss: 2.4001 - val_acc: 0.1808\n",
      "\n",
      "Epoch 00047: val_loss did not improve from 2.39522\n",
      "Epoch 48/50\n",
      "3795/3795 [==============================] - 300s 79ms/step - loss: 2.3481 - acc: 0.1916 - val_loss: 2.4012 - val_acc: 0.1838\n",
      "\n",
      "Epoch 00048: val_loss did not improve from 2.39522\n",
      "Epoch 49/50\n",
      "3795/3795 [==============================] - 300s 79ms/step - loss: 2.3496 - acc: 0.1931 - val_loss: 2.3965 - val_acc: 0.1798\n",
      "\n",
      "Epoch 00049: val_loss did not improve from 2.39522\n",
      "Epoch 50/50\n",
      "3795/3795 [==============================] - 299s 79ms/step - loss: 2.3411 - acc: 0.1963 - val_loss: 2.4044 - val_acc: 0.1859\n",
      "\n",
      "Epoch 00050: val_loss did not improve from 2.39522\n"
     ]
    }
   ],
   "source": [
    "if not os.path.exists(checkpoint_folder):\n",
    "    os.makedirs(checkpoint_folder)\n",
    "\n",
    "filepath=checkpoint_folder+\"/weights-{epoch:02d}.hdf5\"\n",
    "\n",
    "opt = keras.optimizers.Adam(lr=0.001, beta_1=0.9, beta_2=0.999, epsilon=None, decay=0.0, amsgrad=False)\n",
    "#opt = RMSprop(lr=0.0,rho=0.9, epsilon=1e-08, decay=0.0)\n",
    "#model.compile(loss=keras.losses.sparse_categorical_crossentropy,metrics=['accuracy'],optimizer=opt)\n",
    "model.compile(loss=keras.losses.categorical_crossentropy,metrics=['accuracy'],optimizer=opt)\n",
    "#model.compile(loss='mse', optimizer='rmsprop', metrics=['accuracy'])\n",
    "\n",
    "\n",
    "checkpoint = \\\n",
    "    ModelCheckpoint(filepath, verbose=1, save_best_only=True, save_weights_only=False, mode='auto', period=1)\n",
    "\n",
    "lr = LearningRateScheduler(step_decay(initial_lrate,epochs_drop,drop_factor))\n",
    "\n",
    "tensorboard = keras.callbacks.TensorBoard(log_dir='./tensorboard-logs/{}'.format(time()))\n",
    "\n",
    "history = model.fit(train_imgs, train_categorical_labels,callbacks=[checkpoint,lr,TerminateOnNaN(),tensorboard],\n",
    "          validation_data=(validation_imgs,validation_categorical_labels),\n",
    "          batch_size=batch_size, epochs=epochs,shuffle=True)"
   ]
  },
  {
   "cell_type": "code",
   "execution_count": 110,
   "metadata": {},
   "outputs": [
    {
     "name": "stdout",
     "output_type": "stream",
     "text": [
      "dict_keys(['val_loss', 'val_acc', 'loss', 'acc'])\n"
     ]
    },
    {
     "data": {
      "image/png": "[encoded data removed]",
      "text/plain": [
       "<Figure size 432x288 with 1 Axes>"
      ]
     },
     "metadata": {
      "needs_background": "light"
     },
     "output_type": "display_data"
    },
    {
     "data": {
      "image/png": "[encoded data removed]",
      "text/plain": [
       "<Figure size 432x288 with 1 Axes>"
      ]
     },
     "metadata": {
      "needs_background": "light"
     },
     "output_type": "display_data"
    }
   ],
   "source": [
    "print(history.history.keys())\n",
    "# summarize history for accuracy\n",
    "plt.plot(history.history['acc'])\n",
    "plt.plot(history.history['val_acc'])\n",
    "plt.title('model accuracy')\n",
    "plt.ylabel('accuracy')\n",
    "plt.xlabel('epoch')\n",
    "plt.legend(['train', 'val'], loc='upper left')\n",
    "plt.show()\n",
    "# summarize history for loss\n",
    "plt.plot(history.history['loss'])\n",
    "plt.plot(history.history['val_loss'])\n",
    "plt.title('model loss')\n",
    "plt.ylabel('loss')\n",
    "plt.xlabel('epoch')\n",
    "plt.legend(['train', 'val'], loc='upper left')\n",
    "plt.show()"
   ]
  },
  {
   "cell_type": "code",
   "execution_count": 29,
   "metadata": {},
   "outputs": [
    {
     "data": {
      "text/plain": [
       "488"
      ]
     },
     "execution_count": 29,
     "metadata": {},
     "output_type": "execute_result"
    }
   ],
   "source": [
    "gc.collect()"
   ]
  },
  {
   "cell_type": "code",
   "execution_count": 94,
   "metadata": {},
   "outputs": [],
   "source": [
    "def step_decay(initial_lrate,epochs_drop,drop_factor):\n",
    "    def step_decay_fcn(epoch):\n",
    "        return initial_lrate * math.pow(drop_factor, math.floor((1+epoch)/epochs_drop))\n",
    "    return step_decay_fcn\n",
    "\n",
    "checkpoint_folder = \"./cnn_checkpoints_gdicnn_lstm\"\n",
    "batch_size  = 16\n",
    "num_classes = len(train['labels'].unique())#len(train_labels)\n",
    "epochs = 50\n",
    "epochs_drop,drop_factor = (10,0.8)\n",
    "input_shape = train_imgs[0].shape\n",
    "kernel_size = 8\n",
    "conv_dim = 16\n",
    "initial_lrate = 0.001\n",
    "dropout_amount = 0.5\n",
    "l2_lambda = 10**(-3.5)\n",
    "reg = keras.regularizers.l2(l2_lambda)\n",
    "last_layer_dim=18"
   ]
  },
  {
   "cell_type": "code",
   "execution_count": 97,
   "metadata": {},
   "outputs": [
    {
     "ename": "ValueError",
     "evalue": "Input 0 is incompatible with layer lstm_15: expected ndim=3, found ndim=4",
     "output_type": "error",
     "traceback": [
      "\u001b[1;31m---------------------------------------------------------------------------\u001b[0m",
      "\u001b[1;31mValueError\u001b[0m                                Traceback (most recent call last)",
      "\u001b[1;32m<ipython-input-97-2395f53cd7a9>\u001b[0m in \u001b[0;36m<module>\u001b[1;34m()\u001b[0m\n\u001b[0;32m      6\u001b[0m \u001b[1;31m#model.add(Dropout(dropout_amount))\u001b[0m\u001b[1;33m\u001b[0m\u001b[1;33m\u001b[0m\u001b[0m\n\u001b[0;32m      7\u001b[0m \u001b[1;31m#model.add(Flatten())\u001b[0m\u001b[1;33m\u001b[0m\u001b[1;33m\u001b[0m\u001b[0m\n\u001b[1;32m----> 8\u001b[1;33m \u001b[0mmodel\u001b[0m\u001b[1;33m.\u001b[0m\u001b[0madd\u001b[0m\u001b[1;33m(\u001b[0m\u001b[0mLSTM\u001b[0m\u001b[1;33m(\u001b[0m\u001b[0minput_shape\u001b[0m\u001b[1;33m)\u001b[0m\u001b[1;33m)\u001b[0m\u001b[1;33m\u001b[0m\u001b[0m\n\u001b[0m\u001b[0;32m      9\u001b[0m \u001b[0mmodel\u001b[0m\u001b[1;33m.\u001b[0m\u001b[0madd\u001b[0m\u001b[1;33m(\u001b[0m\u001b[0mDense\u001b[0m\u001b[1;33m(\u001b[0m\u001b[1;36m1\u001b[0m\u001b[1;33m,\u001b[0m \u001b[0mactivation\u001b[0m\u001b[1;33m=\u001b[0m\u001b[1;34m'linear'\u001b[0m\u001b[1;33m)\u001b[0m\u001b[1;33m)\u001b[0m\u001b[1;33m\u001b[0m\u001b[0m\n",
      "\u001b[1;32mE:\\MY\\Anaconda3\\envs\\tensorflow\\lib\\site-packages\\keras\\engine\\sequential.py\u001b[0m in \u001b[0;36madd\u001b[1;34m(self, layer)\u001b[0m\n\u001b[0;32m    183\u001b[0m                 \u001b[0mself\u001b[0m\u001b[1;33m.\u001b[0m\u001b[0minputs\u001b[0m \u001b[1;33m=\u001b[0m \u001b[0mnetwork\u001b[0m\u001b[1;33m.\u001b[0m\u001b[0mget_source_inputs\u001b[0m\u001b[1;33m(\u001b[0m\u001b[0mself\u001b[0m\u001b[1;33m.\u001b[0m\u001b[0moutputs\u001b[0m\u001b[1;33m[\u001b[0m\u001b[1;36m0\u001b[0m\u001b[1;33m]\u001b[0m\u001b[1;33m)\u001b[0m\u001b[1;33m\u001b[0m\u001b[0m\n\u001b[0;32m    184\u001b[0m         \u001b[1;32melif\u001b[0m \u001b[0mself\u001b[0m\u001b[1;33m.\u001b[0m\u001b[0moutputs\u001b[0m\u001b[1;33m:\u001b[0m\u001b[1;33m\u001b[0m\u001b[0m\n\u001b[1;32m--> 185\u001b[1;33m             \u001b[0moutput_tensor\u001b[0m \u001b[1;33m=\u001b[0m \u001b[0mlayer\u001b[0m\u001b[1;33m(\u001b[0m\u001b[0mself\u001b[0m\u001b[1;33m.\u001b[0m\u001b[0moutputs\u001b[0m\u001b[1;33m[\u001b[0m\u001b[1;36m0\u001b[0m\u001b[1;33m]\u001b[0m\u001b[1;33m)\u001b[0m\u001b[1;33m\u001b[0m\u001b[0m\n\u001b[0m\u001b[0;32m    186\u001b[0m             \u001b[1;32mif\u001b[0m \u001b[0misinstance\u001b[0m\u001b[1;33m(\u001b[0m\u001b[0moutput_tensor\u001b[0m\u001b[1;33m,\u001b[0m \u001b[0mlist\u001b[0m\u001b[1;33m)\u001b[0m\u001b[1;33m:\u001b[0m\u001b[1;33m\u001b[0m\u001b[0m\n\u001b[0;32m    187\u001b[0m                 raise TypeError('All layers in a Sequential model '\n",
      "\u001b[1;32mE:\\MY\\Anaconda3\\envs\\tensorflow\\lib\\site-packages\\keras\\layers\\recurrent.py\u001b[0m in \u001b[0;36m__call__\u001b[1;34m(self, inputs, initial_state, constants, **kwargs)\u001b[0m\n\u001b[0;32m    498\u001b[0m \u001b[1;33m\u001b[0m\u001b[0m\n\u001b[0;32m    499\u001b[0m         \u001b[1;32mif\u001b[0m \u001b[0minitial_state\u001b[0m \u001b[1;32mis\u001b[0m \u001b[1;32mNone\u001b[0m \u001b[1;32mand\u001b[0m \u001b[0mconstants\u001b[0m \u001b[1;32mis\u001b[0m \u001b[1;32mNone\u001b[0m\u001b[1;33m:\u001b[0m\u001b[1;33m\u001b[0m\u001b[0m\n\u001b[1;32m--> 500\u001b[1;33m             \u001b[1;32mreturn\u001b[0m \u001b[0msuper\u001b[0m\u001b[1;33m(\u001b[0m\u001b[0mRNN\u001b[0m\u001b[1;33m,\u001b[0m \u001b[0mself\u001b[0m\u001b[1;33m)\u001b[0m\u001b[1;33m.\u001b[0m\u001b[0m__call__\u001b[0m\u001b[1;33m(\u001b[0m\u001b[0minputs\u001b[0m\u001b[1;33m,\u001b[0m \u001b[1;33m**\u001b[0m\u001b[0mkwargs\u001b[0m\u001b[1;33m)\u001b[0m\u001b[1;33m\u001b[0m\u001b[0m\n\u001b[0m\u001b[0;32m    501\u001b[0m \u001b[1;33m\u001b[0m\u001b[0m\n\u001b[0;32m    502\u001b[0m         \u001b[1;31m# If any of `initial_state` or `constants` are specified and are Keras\u001b[0m\u001b[1;33m\u001b[0m\u001b[1;33m\u001b[0m\u001b[0m\n",
      "\u001b[1;32mE:\\MY\\Anaconda3\\envs\\tensorflow\\lib\\site-packages\\keras\\engine\\base_layer.py\u001b[0m in \u001b[0;36m__call__\u001b[1;34m(self, inputs, **kwargs)\u001b[0m\n\u001b[0;32m    412\u001b[0m                 \u001b[1;31m# Raise exceptions in case the input is not compatible\u001b[0m\u001b[1;33m\u001b[0m\u001b[1;33m\u001b[0m\u001b[0m\n\u001b[0;32m    413\u001b[0m                 \u001b[1;31m# with the input_spec specified in the layer constructor.\u001b[0m\u001b[1;33m\u001b[0m\u001b[1;33m\u001b[0m\u001b[0m\n\u001b[1;32m--> 414\u001b[1;33m                 \u001b[0mself\u001b[0m\u001b[1;33m.\u001b[0m\u001b[0massert_input_compatibility\u001b[0m\u001b[1;33m(\u001b[0m\u001b[0minputs\u001b[0m\u001b[1;33m)\u001b[0m\u001b[1;33m\u001b[0m\u001b[0m\n\u001b[0m\u001b[0;32m    415\u001b[0m \u001b[1;33m\u001b[0m\u001b[0m\n\u001b[0;32m    416\u001b[0m                 \u001b[1;31m# Collect input shapes to build layer.\u001b[0m\u001b[1;33m\u001b[0m\u001b[1;33m\u001b[0m\u001b[0m\n",
      "\u001b[1;32mE:\\MY\\Anaconda3\\envs\\tensorflow\\lib\\site-packages\\keras\\engine\\base_layer.py\u001b[0m in \u001b[0;36massert_input_compatibility\u001b[1;34m(self, inputs)\u001b[0m\n\u001b[0;32m    309\u001b[0m                                      \u001b[0mself\u001b[0m\u001b[1;33m.\u001b[0m\u001b[0mname\u001b[0m \u001b[1;33m+\u001b[0m \u001b[1;34m': expected ndim='\u001b[0m \u001b[1;33m+\u001b[0m\u001b[1;33m\u001b[0m\u001b[0m\n\u001b[0;32m    310\u001b[0m                                      \u001b[0mstr\u001b[0m\u001b[1;33m(\u001b[0m\u001b[0mspec\u001b[0m\u001b[1;33m.\u001b[0m\u001b[0mndim\u001b[0m\u001b[1;33m)\u001b[0m \u001b[1;33m+\u001b[0m \u001b[1;34m', found ndim='\u001b[0m \u001b[1;33m+\u001b[0m\u001b[1;33m\u001b[0m\u001b[0m\n\u001b[1;32m--> 311\u001b[1;33m                                      str(K.ndim(x)))\n\u001b[0m\u001b[0;32m    312\u001b[0m             \u001b[1;32mif\u001b[0m \u001b[0mspec\u001b[0m\u001b[1;33m.\u001b[0m\u001b[0mmax_ndim\u001b[0m \u001b[1;32mis\u001b[0m \u001b[1;32mnot\u001b[0m \u001b[1;32mNone\u001b[0m\u001b[1;33m:\u001b[0m\u001b[1;33m\u001b[0m\u001b[0m\n\u001b[0;32m    313\u001b[0m                 \u001b[0mndim\u001b[0m \u001b[1;33m=\u001b[0m \u001b[0mK\u001b[0m\u001b[1;33m.\u001b[0m\u001b[0mndim\u001b[0m\u001b[1;33m(\u001b[0m\u001b[0mx\u001b[0m\u001b[1;33m)\u001b[0m\u001b[1;33m\u001b[0m\u001b[0m\n",
      "\u001b[1;31mValueError\u001b[0m: Input 0 is incompatible with layer lstm_15: expected ndim=3, found ndim=4"
     ]
    }
   ],
   "source": [
    "model = Sequential()\n",
    "model.add(Conv2D(conv_dim, kernel_size=kernel_size, input_shape=input_shape, padding='same'))\n",
    "model.add(Activation('relu'))\n",
    "model.add(BatchNormalization())\n",
    "model.add(MaxPooling2D(pool_size=2))\n",
    "#model.add(Dropout(dropout_amount))\n",
    "#model.add(Flatten())\n",
    "model.add(LSTM(input_shape))\n",
    "model.add(Dense(1, activation='linear'))"
   ]
  },
  {
   "cell_type": "code",
   "execution_count": null,
   "metadata": {},
   "outputs": [],
   "source": [
    "if not os.path.exists(checkpoint_folder):\n",
    "    os.makedirs(checkpoint_folder)\n",
    "\n",
    "filepath=checkpoint_folder+\"/weights-{epoch:02d}.hdf5\"\n",
    "#opt = keras.optimizers.Adam(lr=0.001, beta_1=0.9, beta_2=0.999, epsilon=None, decay=0.0, amsgrad=False)\n",
    "model.compile(loss='mse',metrics=['accuracy'],optimizer='adam')\n",
    "\n",
    "checkpoint = \\\n",
    "    ModelCheckpoint(filepath, verbose=1, save_best_only=True, save_weights_only=False, mode='auto', period=1)\n",
    "\n",
    "lr = LearningRateScheduler(step_decay(initial_lrate,epochs_drop,drop_factor))\n",
    "\n",
    "tensorboard = keras.callbacks.TensorBoard(log_dir='./tensorboard-logs/lstm/{}'.format(time()))\n",
    "\n",
    "history = model.fit(train_imgs, train_labels,callbacks=[checkpoint,lr,TerminateOnNaN(),tensorboard],\n",
    "          validation_data=(validation_imgs,validation_labels),\n",
    "          batch_size=batch_size, epochs=epochs,shuffle=True)"
   ]
  },
  {
   "cell_type": "code",
   "execution_count": null,
   "metadata": {},
   "outputs": [],
   "source": []
  }
 ],
 "metadata": {
  "kernelspec": {
   "display_name": "Python 3",
   "language": "python",
   "name": "python3"
  },
  "language_info": {
   "codemirror_mode": {
    "name": "ipython",
    "version": 3
   },
   "file_extension": ".py",
   "mimetype": "text/x-python",
   "name": "python",
   "nbconvert_exporter": "python",
   "pygments_lexer": "ipython3",
   "version": "3.6.7"
  }
 },
 "nbformat": 4,
 "nbformat_minor": 2
}
