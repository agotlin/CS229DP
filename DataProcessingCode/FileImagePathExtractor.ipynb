{
 "cells": [
  {
   "cell_type": "code",
   "execution_count": 43,
   "metadata": {},
   "outputs": [],
   "source": [
    "import numpy as np\n",
    "import tensorflow as tf\n",
    "import random as rn\n",
    "import os\n",
    "import matplotlib.pyplot as plt\n",
    "%matplotlib inline\n",
    "os.environ['PYTHONHASHSEED'] = '0'\n",
    "np.random.seed(1)\n",
    "rn.seed(1)\n",
    "from keras import backend as K\n",
    "tf.set_random_seed(1)\n",
    "sess = tf.Session(graph=tf.get_default_graph())\n",
    "K.set_session(sess)\n",
    "import sys\n",
    "import keras\n",
    "from keras.models import Sequential\n",
    "from keras.layers import LSTM, Dense, Activation, Dropout, Flatten\n",
    "from keras.layers import Conv1D,MaxPooling1D,Conv2D,MaxPooling2D\n",
    "from keras.layers.normalization import BatchNormalization\n",
    "from keras.optimizers import SGD\n",
    "from keras.optimizers import RMSprop\n",
    "from keras.callbacks import LearningRateScheduler\n",
    "from keras.callbacks import ModelCheckpoint\n",
    "from keras.callbacks import TerminateOnNaN\n",
    "import keras.regularizers\n",
    "import scipy\n",
    "import math\n",
    "import sys\n",
    "import pandas as pd\n",
    "from scipy.ndimage.filters import gaussian_filter1d\n",
    "from sklearn.metrics import mean_squared_error\n",
    "from scipy.stats import linregress\n",
    "from scipy import interpolate\n",
    "from scipy import signal\n",
    "#import cPickle as pickle\n",
    "#from video_process_utils import *\n",
    "import collections\n",
    "from keras.preprocessing.image import ImageDataGenerator, array_to_img, img_to_array, load_img\n",
    "from PIL import Image\n",
    "import matplotlib.pylab as plt\n",
    "from sklearn.preprocessing import StandardScaler, OneHotEncoder, LabelEncoder\n",
    "from sklearn.model_selection import train_test_split\n",
    "#os.environ[\"CUDA_DEVICE_ORDER\"]=\"PCI_BUS_ID\"\n",
    "#os.environ[\"CUDA_VISIBLE_DEVICES\"]=\"0\" "
   ]
  },
  {
   "cell_type": "code",
   "execution_count": 44,
   "metadata": {},
   "outputs": [],
   "source": [
    "# Pull down GDI list and Vide List files"
   ]
  },
  {
   "cell_type": "code",
   "execution_count": 45,
   "metadata": {},
   "outputs": [
    {
     "name": "stdout",
     "output_type": "stream",
     "text": [
      "   examid  Patient_ID side        GDI\n",
      "0      32        3364    L  79.507851\n",
      "1      32        3364    R  87.923384\n",
      "2      35        3365    L  80.504580\n",
      "3      35        3365    R  75.721122\n",
      "4      36        3367    L  49.978819\n",
      "(16723, 4)\n",
      "(13841, 3)\n",
      "(13841, 3)\n"
     ]
    }
   ],
   "source": [
    "#gdi_df = pd.read_csv('./data/test/labels/gdi.csv')\n",
    "gdi_df = pd.read_csv('./data/gdi.csv')\n",
    "print(gdi_df.head())\n",
    "print(gdi_df.shape)\n",
    "#video_df = pd.read_csv('./data/test/labels/video_list.csv')\n",
    "video_df = pd.read_csv('./data/video_list.csv')\n",
    "print(video_df.shape)\n",
    "print(video_df.shape)"
   ]
  },
  {
   "cell_type": "code",
   "execution_count": 46,
   "metadata": {},
   "outputs": [
    {
     "name": "stdout",
     "output_type": "stream",
     "text": [
      "   examid  Patient_ID side        GDI Event_Date  \\\n",
      "0      32      3364.0    L  79.507851  24-Oct-94   \n",
      "1      32      3364.0    R  87.923384  24-Oct-94   \n",
      "2      35      3365.0    L  80.504580  07-Mar-96   \n",
      "3      35      3365.0    R  75.721122  07-Mar-96   \n",
      "4      36      3367.0    L  49.978819  31-Jul-97   \n",
      "\n",
      "                                          Video_File  \n",
      "0  \\\\fapvids\\Videos\\GILLETTEVIEWER\\1994\\06988401.mp4  \n",
      "1  \\\\fapvids\\Videos\\GILLETTEVIEWER\\1994\\06988401.mp4  \n",
      "2  \\\\fapvids\\Videos\\GILLETTEVIEWER\\1996\\07022001.mp4  \n",
      "3  \\\\fapvids\\Videos\\GILLETTEVIEWER\\1996\\07022001.mp4  \n",
      "4  \\\\fapvids\\Videos\\GILLETTEVIEWER\\1997\\07337701.mp4  \n",
      "(22228, 6)\n"
     ]
    }
   ],
   "source": [
    "# Merge GDI list and Video List\n",
    "\n",
    "merged_df = pd.merge(gdi_df, video_df, on=['examid'], how='outer')\n",
    "print(merged_df.head())\n",
    "print(merged_df.shape)\n"
   ]
  },
  {
   "cell_type": "code",
   "execution_count": 47,
   "metadata": {},
   "outputs": [],
   "source": [
    "gdi_exam_grp = gdi_df.groupby(gdi_df['examid'])\n",
    "#print(gdi_exam_grp.head())"
   ]
  },
  {
   "cell_type": "code",
   "execution_count": 48,
   "metadata": {},
   "outputs": [
    {
     "name": "stdout",
     "output_type": "stream",
     "text": [
      "(13960, 5)\n",
      "   examid  Patient_ID        GDI Event_Date  \\\n",
      "0      32      3364.0  83.715617  24-Oct-94   \n",
      "1      35      3365.0  78.112851  07-Mar-96   \n",
      "2      36      3367.0  53.457512  31-Jul-97   \n",
      "3      37      3369.0  60.827350  22-Aug-95   \n",
      "4      40      3371.0  63.043201  20-Dec-94   \n",
      "\n",
      "                                          Video_File  \n",
      "0  \\\\fapvids\\Videos\\GILLETTEVIEWER\\1994\\06988401.mp4  \n",
      "1  \\\\fapvids\\Videos\\GILLETTEVIEWER\\1996\\07022001.mp4  \n",
      "2  \\\\fapvids\\Videos\\GILLETTEVIEWER\\1997\\07337701.mp4  \n",
      "3  \\\\fapvids\\Videos\\GILLETTEVIEWER\\1995\\07399701.mp4  \n",
      "4  \\\\fapvids\\Videos\\GILLETTEVIEWER\\1994\\07720401.mp4  \n"
     ]
    }
   ],
   "source": [
    "merged_gdiavg_df = pd.merge(gdi_exam_grp.mean(), video_df, on=['examid'], how='outer')\n",
    "#merged_gdiavg_df.to_csv('./data/test/labels/merged_gdiavg.csv')\n",
    "merged_gdiavg_df.to_csv('./data/merged_gdiavg.csv')\n",
    "\n",
    "print(merged_gdiavg_df.shape)\n",
    "print(merged_gdiavg_df.head())"
   ]
  },
  {
   "cell_type": "code",
   "execution_count": 49,
   "metadata": {},
   "outputs": [],
   "source": [
    "# Remove videos without a GDI"
   ]
  },
  {
   "cell_type": "code",
   "execution_count": 50,
   "metadata": {},
   "outputs": [],
   "source": [
    "d_mergedgdiavg_new_df = merged_gdiavg_df[True != merged_gdiavg_df['GDI'].isnull()]"
   ]
  },
  {
   "cell_type": "code",
   "execution_count": 51,
   "metadata": {},
   "outputs": [
    {
     "name": "stdout",
     "output_type": "stream",
     "text": [
      "(8456, 5)\n",
      "   examid  Patient_ID        GDI Event_Date  \\\n",
      "0      32      3364.0  83.715617  24-Oct-94   \n",
      "1      35      3365.0  78.112851  07-Mar-96   \n",
      "2      36      3367.0  53.457512  31-Jul-97   \n",
      "3      37      3369.0  60.827350  22-Aug-95   \n",
      "4      40      3371.0  63.043201  20-Dec-94   \n",
      "\n",
      "                                          Video_File  \n",
      "0  \\\\fapvids\\Videos\\GILLETTEVIEWER\\1994\\06988401.mp4  \n",
      "1  \\\\fapvids\\Videos\\GILLETTEVIEWER\\1996\\07022001.mp4  \n",
      "2  \\\\fapvids\\Videos\\GILLETTEVIEWER\\1997\\07337701.mp4  \n",
      "3  \\\\fapvids\\Videos\\GILLETTEVIEWER\\1995\\07399701.mp4  \n",
      "4  \\\\fapvids\\Videos\\GILLETTEVIEWER\\1994\\07720401.mp4  \n"
     ]
    }
   ],
   "source": [
    "print(d_mergedgdiavg_new_df.shape)\n",
    "print(d_mergedgdiavg_new_df.head())"
   ]
  },
  {
   "cell_type": "code",
   "execution_count": 52,
   "metadata": {},
   "outputs": [
    {
     "name": "stdout",
     "output_type": "stream",
     "text": [
      "True\n",
      "False\n"
     ]
    }
   ],
   "source": [
    "print(merged_gdiavg_df['Video_File'].str.contains('10366507', na=False).any())\n",
    "print((d_mergedgdiavg_new_df['Video_File'].str.contains('10366507', na=False).any()))"
   ]
  },
  {
   "cell_type": "code",
   "execution_count": 54,
   "metadata": {},
   "outputs": [],
   "source": [
    "# THIS IS THE SCRIPT TO GENERATE THE MAPPING FROM IMAGES TO FILE PATHS TO LOAD TRAINING EXAMPLES\n",
    "\n",
    "image_file_path2 = []\n",
    "labels2 = []\n",
    "for root, dirs, files in os.walk('./data/densepose-out'):\n",
    "    #print(dirs)\n",
    "    if(root.endswith('processed')):\n",
    "        #image_dir_name = (root[root.rfind('\\\\')+1:])\n",
    "        image_dir_name = (root[root.rfind('\\\\')+1:])[:8] #ASSUME 8 DIGITS ONLY\n",
    "#         print(image_dir_name)\n",
    "#          break\n",
    "        if(d_mergedgdiavg_new_df['Video_File'].str.contains(image_dir_name, na=False).any()):\n",
    "            img_cnt = 0\n",
    "            for file in files:\n",
    "                if(file.endswith('_IUV.png')):\n",
    "                    image_file_path2.append(os.path.join(root, file))\n",
    "                    labels2.append(d_mergedgdiavg_new_df.GDI[d_mergedgdiavg_new_df['Video_File'].str.contains(image_dir_name, na=False)].values[0])\n",
    "                    img_cnt+=1\n",
    "#                     if(img_cnt>10):\n",
    "#                         break;\n",
    "#         else:\n",
    "#             print(image_dir_name) # print all folders that are lost to our joins and exceptions"
   ]
  },
  {
   "cell_type": "code",
   "execution_count": 55,
   "metadata": {},
   "outputs": [
    {
     "name": "stdout",
     "output_type": "stream",
     "text": [
      "68931\n"
     ]
    }
   ],
   "source": [
    "print(len(image_file_path2))"
   ]
  },
  {
   "cell_type": "code",
   "execution_count": null,
   "metadata": {},
   "outputs": [],
   "source": [
    "# image_file_path2 = []\n",
    "# labels2 = []\n",
    "# for root, dirs, files in os.walk('./data/densepose-out'):\n",
    "#     #print(dirs)\n",
    "#     if(root.endswith('processed')):\n",
    "#         #image_dir_name = (root[root.rfind('\\\\')+1:])\n",
    "#         image_dir_name = (root[root.rfind('\\\\')+1:])[:8] #ASSUME 8 DIGITS ONLY\n",
    "# #         print(image_dir_name)\n",
    "# #          break\n",
    "#         if(d_mergedgdiavg_new_df['Video_File'].str.contains(image_dir_name, na=False).any()):\n",
    "#             img_cnt = 0\n",
    "#             for file in files:\n",
    "#                 if(file.endswith('_IUV.png')):\n",
    "#                     image_file_path2.append(os.path.join(root, file))\n",
    "#                     labels2.append(d_mergedgdiavg_new_df.GDI[d_mergedgdiavg_new_df['Video_File'].str.contains(image_dir_name, na=False)].values[0])\n",
    "#                     img_cnt+=1\n",
    "# #                     if(img_cnt>10):\n",
    "# #                         break;"
   ]
  },
  {
   "cell_type": "code",
   "execution_count": null,
   "metadata": {},
   "outputs": [],
   "source": []
  },
  {
   "cell_type": "code",
   "execution_count": 5,
   "metadata": {},
   "outputs": [],
   "source": []
  },
  {
   "cell_type": "code",
   "execution_count": 6,
   "metadata": {},
   "outputs": [
    {
     "data": {
      "text/html": [
       "<div>\n",
       "<style scoped>\n",
       "    .dataframe tbody tr th:only-of-type {\n",
       "        vertical-align: middle;\n",
       "    }\n",
       "\n",
       "    .dataframe tbody tr th {\n",
       "        vertical-align: top;\n",
       "    }\n",
       "\n",
       "    .dataframe thead th {\n",
       "        text-align: right;\n",
       "    }\n",
       "</style>\n",
       "<table border=\"1\" class=\"dataframe\">\n",
       "  <thead>\n",
       "    <tr style=\"text-align: right;\">\n",
       "      <th></th>\n",
       "      <th>Unnamed: 0</th>\n",
       "      <th>examid</th>\n",
       "      <th>Patient_ID</th>\n",
       "      <th>GDI</th>\n",
       "      <th>Event_Date</th>\n",
       "      <th>Video_File</th>\n",
       "    </tr>\n",
       "  </thead>\n",
       "  <tbody>\n",
       "    <tr>\n",
       "      <th>0</th>\n",
       "      <td>0</td>\n",
       "      <td>32</td>\n",
       "      <td>3364.0</td>\n",
       "      <td>83.715617</td>\n",
       "      <td>1994-10-24</td>\n",
       "      <td>\\\\fapvids\\Videos\\GILLETTEVIEWER\\1994\\06988401.mp4</td>\n",
       "    </tr>\n",
       "    <tr>\n",
       "      <th>1</th>\n",
       "      <td>1</td>\n",
       "      <td>35</td>\n",
       "      <td>3365.0</td>\n",
       "      <td>78.112851</td>\n",
       "      <td>1996-03-07</td>\n",
       "      <td>\\\\fapvids\\Videos\\GILLETTEVIEWER\\1996\\07022001.mp4</td>\n",
       "    </tr>\n",
       "    <tr>\n",
       "      <th>2</th>\n",
       "      <td>2</td>\n",
       "      <td>36</td>\n",
       "      <td>3367.0</td>\n",
       "      <td>53.457512</td>\n",
       "      <td>1997-07-31</td>\n",
       "      <td>\\\\fapvids\\Videos\\GILLETTEVIEWER\\1997\\07337701.mp4</td>\n",
       "    </tr>\n",
       "    <tr>\n",
       "      <th>3</th>\n",
       "      <td>3</td>\n",
       "      <td>37</td>\n",
       "      <td>3369.0</td>\n",
       "      <td>60.827350</td>\n",
       "      <td>1995-08-22</td>\n",
       "      <td>\\\\fapvids\\Videos\\GILLETTEVIEWER\\1995\\07399701.mp4</td>\n",
       "    </tr>\n",
       "    <tr>\n",
       "      <th>4</th>\n",
       "      <td>4</td>\n",
       "      <td>40</td>\n",
       "      <td>3371.0</td>\n",
       "      <td>63.043201</td>\n",
       "      <td>1994-12-20</td>\n",
       "      <td>\\\\fapvids\\Videos\\GILLETTEVIEWER\\1994\\07720401.mp4</td>\n",
       "    </tr>\n",
       "  </tbody>\n",
       "</table>\n",
       "</div>"
      ],
      "text/plain": [
       "   Unnamed: 0  examid  Patient_ID        GDI Event_Date  \\\n",
       "0           0      32      3364.0  83.715617 1994-10-24   \n",
       "1           1      35      3365.0  78.112851 1996-03-07   \n",
       "2           2      36      3367.0  53.457512 1997-07-31   \n",
       "3           3      37      3369.0  60.827350 1995-08-22   \n",
       "4           4      40      3371.0  63.043201 1994-12-20   \n",
       "\n",
       "                                          Video_File  \n",
       "0  \\\\fapvids\\Videos\\GILLETTEVIEWER\\1994\\06988401.mp4  \n",
       "1  \\\\fapvids\\Videos\\GILLETTEVIEWER\\1996\\07022001.mp4  \n",
       "2  \\\\fapvids\\Videos\\GILLETTEVIEWER\\1997\\07337701.mp4  \n",
       "3  \\\\fapvids\\Videos\\GILLETTEVIEWER\\1995\\07399701.mp4  \n",
       "4  \\\\fapvids\\Videos\\GILLETTEVIEWER\\1994\\07720401.mp4  "
      ]
     },
     "execution_count": 6,
     "metadata": {},
     "output_type": "execute_result"
    }
   ],
   "source": []
  },
  {
   "cell_type": "code",
   "execution_count": 7,
   "metadata": {},
   "outputs": [],
   "source": [
    "d_mergedgdiavg_new_df = mergedgdiavg_new_df[True != mergedgdiavg_new_df['GDI'].isnull()]"
   ]
  },
  {
   "cell_type": "code",
   "execution_count": 8,
   "metadata": {},
   "outputs": [
    {
     "data": {
      "text/plain": [
       "0    \\\\fapvids\\Videos\\GILLETTEVIEWER\\1994\\06988401.mp4\n",
       "1    \\\\fapvids\\Videos\\GILLETTEVIEWER\\1996\\07022001.mp4\n",
       "2    \\\\fapvids\\Videos\\GILLETTEVIEWER\\1997\\07337701.mp4\n",
       "3    \\\\fapvids\\Videos\\GILLETTEVIEWER\\1995\\07399701.mp4\n",
       "4    \\\\fapvids\\Videos\\GILLETTEVIEWER\\1994\\07720401.mp4\n",
       "Name: Video_File, dtype: object"
      ]
     },
     "execution_count": 8,
     "metadata": {},
     "output_type": "execute_result"
    }
   ],
   "source": [
    "image_path=d_mergedgdiavg_new_df['Video_File']\n",
    "image_path.head()"
   ]
  },
  {
   "cell_type": "code",
   "execution_count": 9,
   "metadata": {},
   "outputs": [
    {
     "data": {
      "text/plain": [
       "0    83.715617\n",
       "1    78.112851\n",
       "2    53.457512\n",
       "3    60.827350\n",
       "4    63.043201\n",
       "Name: GDI, dtype: float64"
      ]
     },
     "execution_count": 9,
     "metadata": {},
     "output_type": "execute_result"
    }
   ],
   "source": [
    "labels=d_mergedgdiavg_new_df['GDI']\n",
    "labels.head()"
   ]
  },
  {
   "cell_type": "code",
   "execution_count": 17,
   "metadata": {},
   "outputs": [],
   "source": [
    "image_file_path = []\n",
    "labels = []\n",
    "for root, dirs, files in os.walk('./data/densepose-out'):\n",
    "    if(root.endswith('processed')):\n",
    "        image_dir_name = (root[root.rfind('\\\\')+1:])\n",
    "        if(d_mergedgdiavg_new_df['Video_File'].str.contains(image_dir_name, na=False).any()):\n",
    "            dirImages = []\n",
    "            img_cnt = 0\n",
    "            for file in files:\n",
    "                if(file.endswith('_IUV.png')):\n",
    "                    image_file_path.append(os.path.join(root, file))\n",
    "                    labels.append(d_mergedgdiavg_new_df.GDI[d_mergedgdiavg_new_df['Video_File'].str.contains(image_dir_name, na=False)].values[0])"
   ]
  },
  {
   "cell_type": "code",
   "execution_count": 18,
   "metadata": {},
   "outputs": [
    {
     "data": {
      "text/plain": [
       "234033"
      ]
     },
     "execution_count": 18,
     "metadata": {},
     "output_type": "execute_result"
    }
   ],
   "source": [
    "len(image_file_path)"
   ]
  },
  {
   "cell_type": "code",
   "execution_count": 19,
   "metadata": {},
   "outputs": [
    {
     "data": {
      "text/plain": [
       "234033"
      ]
     },
     "execution_count": 19,
     "metadata": {},
     "output_type": "execute_result"
    }
   ],
   "source": [
    "len(labels)"
   ]
  },
  {
   "cell_type": "code",
   "execution_count": 56,
   "metadata": {},
   "outputs": [
    {
     "data": {
      "text/html": [
       "<div>\n",
       "<style scoped>\n",
       "    .dataframe tbody tr th:only-of-type {\n",
       "        vertical-align: middle;\n",
       "    }\n",
       "\n",
       "    .dataframe tbody tr th {\n",
       "        vertical-align: top;\n",
       "    }\n",
       "\n",
       "    .dataframe thead th {\n",
       "        text-align: right;\n",
       "    }\n",
       "</style>\n",
       "<table border=\"1\" class=\"dataframe\">\n",
       "  <thead>\n",
       "    <tr style=\"text-align: right;\">\n",
       "      <th></th>\n",
       "      <th>image_path</th>\n",
       "      <th>labels</th>\n",
       "    </tr>\n",
       "  </thead>\n",
       "  <tbody>\n",
       "    <tr>\n",
       "      <th>0</th>\n",
       "      <td>./data/densepose-out\\10576905-processed\\000053...</td>\n",
       "      <td>62.141802</td>\n",
       "    </tr>\n",
       "    <tr>\n",
       "      <th>1</th>\n",
       "      <td>./data/densepose-out\\10576905-processed\\000054...</td>\n",
       "      <td>62.141802</td>\n",
       "    </tr>\n",
       "    <tr>\n",
       "      <th>2</th>\n",
       "      <td>./data/densepose-out\\10576905-processed\\000055...</td>\n",
       "      <td>62.141802</td>\n",
       "    </tr>\n",
       "    <tr>\n",
       "      <th>3</th>\n",
       "      <td>./data/densepose-out\\10576905-processed\\000056...</td>\n",
       "      <td>62.141802</td>\n",
       "    </tr>\n",
       "    <tr>\n",
       "      <th>4</th>\n",
       "      <td>./data/densepose-out\\10576905-processed\\000057...</td>\n",
       "      <td>62.141802</td>\n",
       "    </tr>\n",
       "  </tbody>\n",
       "</table>\n",
       "</div>"
      ],
      "text/plain": [
       "                                          image_path     labels\n",
       "0  ./data/densepose-out\\10576905-processed\\000053...  62.141802\n",
       "1  ./data/densepose-out\\10576905-processed\\000054...  62.141802\n",
       "2  ./data/densepose-out\\10576905-processed\\000055...  62.141802\n",
       "3  ./data/densepose-out\\10576905-processed\\000056...  62.141802\n",
       "4  ./data/densepose-out\\10576905-processed\\000057...  62.141802"
      ]
     },
     "execution_count": 56,
     "metadata": {},
     "output_type": "execute_result"
    }
   ],
   "source": [
    "image_path_series=pd.Series(image_file_path2)\n",
    "labels_series=pd.Series(labels2)\n",
    "imgaepath_gdi_df = pd.DataFrame()\n",
    "imgaepath_gdi_df['image_path']=image_path_series.values\n",
    "imgaepath_gdi_df['labels']=labels_series.values\n",
    "imgaepath_gdi_df.head()"
   ]
  },
  {
   "cell_type": "code",
   "execution_count": 58,
   "metadata": {},
   "outputs": [],
   "source": [
    "imgaepath_gdi_df.to_csv('./data/imagepath_gdi_allframes_205.csv')"
   ]
  },
  {
   "cell_type": "code",
   "execution_count": null,
   "metadata": {},
   "outputs": [],
   "source": []
  }
 ],
 "metadata": {
  "kernelspec": {
   "display_name": "Python 3",
   "language": "python",
   "name": "python3"
  },
  "language_info": {
   "codemirror_mode": {
    "name": "ipython",
    "version": 3
   },
   "file_extension": ".py",
   "mimetype": "text/x-python",
   "name": "python",
   "nbconvert_exporter": "python",
   "pygments_lexer": "ipython3",
   "version": "3.6.7"
  }
 },
 "nbformat": 4,
 "nbformat_minor": 2
}
